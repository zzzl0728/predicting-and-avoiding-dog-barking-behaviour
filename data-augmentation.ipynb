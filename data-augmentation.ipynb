{
 "cells": [
  {
   "cell_type": "code",
   "execution_count": 9,
   "metadata": {},
   "outputs": [],
   "source": [
    "\n",
    "import pandas as pd\n",
    "import numpy as np\n",
    "import os\n",
    "\n",
    "# Assuming that the csv file is loaded into a pandas DataFrame named df\n",
    "\n",
    "df = pd.read_csv('C:\\\\Users\\\\zzzl0\\\\Desktop\\\\predicting-and-avoiding-dog-barking-behaviour\\\\predicting-and-avoiding-dog-barking-behaviour\\\\output\\\\model2_audio_clips\\\\summary.csv')\n",
    "\n",
    "# Extracting unique dog names from 'File_Name'\n",
    "df['Dog_Name'] = df['File_Name'].apply(lambda x: x.split('_')[0])\n",
    "unique_dogs = df['Dog_Name'].unique()\n",
    "\n",
    "# Create output directory if it doesn't exist\n",
    "output_dir = 'C:\\\\Users\\\\zzzl0\\\\Desktop\\\\predicting-and-avoiding-dog-barking-behaviour\\\\predicting-and-avoiding-dog-barking-behaviour\\\\output\\\\model2_audio_clips\\\\augment'\n",
    "os.makedirs(output_dir, exist_ok=True)\n",
    "\n",
    "for dog in unique_dogs:\n",
    "    # Filtering rows corresponding to the current dog\n",
    "    df_dog = df[df['Dog_Name'] == dog]\n",
    "\n",
    "    # Initializing new DataFrame for storing augmented data\n",
    "    df_aug = pd.DataFrame(columns=['sound_class_list', 'output', 'File_Name'])\n",
    "\n",
    "    for idx, row in df_dog.iterrows():\n",
    "        sound_class_list = row[:-2].tolist()  # Converting row into list and excluding the 'File_Name' and 'Dog_Name'\n",
    "        sound_class_list = [x for x in sound_class_list if not np.isnan(x)]  # Removing NaNs\n",
    "        \n",
    "        # Generating all continuous subsets and their corresponding class\n",
    "        for i in range(len(sound_class_list) - 1):  # Excluding the last sound in each row\n",
    "            for j in range(i+1, len(sound_class_list)):\n",
    "                fragment = sound_class_list[i:j]\n",
    "                if j == len(sound_class_list) - 1:  # Marking interval as 'Y' if fragment contains the second-last sound\n",
    "                    output = 'Y'\n",
    "                else:\n",
    "                    output = 'N'  # Otherwise, marking it as 'N'\n",
    "                    \n",
    "                # Appending new row to df_aug\n",
    "                new_row = pd.DataFrame([{'sound_class_list': fragment, 'output': output, 'File_Name': row['File_Name']}])\n",
    "                df_aug = pd.concat([df_aug, new_row], ignore_index=True)\n",
    "\n",
    "    # Saving the augmented dataframe to a new CSV file\n",
    "    df_aug.to_csv(os.path.join(output_dir, f'{dog}_augmented_data.csv'), index=False)\n"
   ]
  },
  {
   "cell_type": "code",
   "execution_count": null,
   "metadata": {},
   "outputs": [],
   "source": []
  }
 ],
 "metadata": {
  "kernelspec": {
   "display_name": "base",
   "language": "python",
   "name": "python3"
  },
  "language_info": {
   "codemirror_mode": {
    "name": "ipython",
    "version": 3
   },
   "file_extension": ".py",
   "mimetype": "text/x-python",
   "name": "python",
   "nbconvert_exporter": "python",
   "pygments_lexer": "ipython3",
   "version": "3.10.9"
  },
  "orig_nbformat": 4
 },
 "nbformat": 4,
 "nbformat_minor": 2
}
