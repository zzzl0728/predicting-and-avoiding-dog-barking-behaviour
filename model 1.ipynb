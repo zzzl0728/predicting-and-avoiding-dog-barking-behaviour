{
 "cells": [
  {
   "attachments": {},
   "cell_type": "markdown",
   "metadata": {},
   "source": [
    "### Model 1 - Enviormental sound classifiers"
   ]
  },
  {
   "cell_type": "code",
   "execution_count": 46,
   "metadata": {},
   "outputs": [
    {
     "name": "stdout",
     "output_type": "stream",
     "text": [
      "Num GPUs Available:  0\n"
     ]
    }
   ],
   "source": [
    "import tensorflow as tf\n",
    "print(\"Num GPUs Available: \", len(tf.config.list_physical_devices('GPU')))"
   ]
  },
  {
   "cell_type": "code",
   "execution_count": 47,
   "metadata": {},
   "outputs": [],
   "source": [
    "from sklearn.metrics import accuracy_score\n",
    "from sklearn.preprocessing import LabelEncoder\n",
    "import librosa\n",
    "import pandas as pd\n",
    "import numpy as np\n",
    "\n",
    "import os\n",
    "from keras.models import Sequential\n",
    "from keras.layers import Dense, Dropout, Activation, Flatten\n",
    "from keras.layers import Convolution2D, Conv2D, MaxPooling2D, GlobalAveragePooling2D\n",
    "from keras.layers import Input\n",
    "from keras.optimizers import Adam\n",
    "from keras.utils import np_utils\n",
    "from keras.utils import to_categorical\n",
    "from sklearn import metrics \n",
    "# Load metadata\n",
    "metadata = pd.read_csv('C:/Users/zzzl0/Desktop/predicting-and-avoiding-dog-barking-behaviour/predicting-and-avoiding-dog-barking-behaviour/UrbanSound8K/metadata/model1.csv')"
   ]
  },
  {
   "cell_type": "code",
   "execution_count": 69,
   "metadata": {},
   "outputs": [],
   "source": [
    "# mfcc\n",
    "max_frames = 174\n",
    "def mfcc_mels(file_name):\n",
    "    audio, sample_rate = librosa.load(file_name, res_type='kaiser_fast') \n",
    "    mfccs = librosa.feature.mfcc(y=audio, sr=sample_rate, n_mfcc=40)\n",
    "    mels = librosa.feature.melspectrogram(y=audio, sr=sample_rate)\n",
    "\n",
    "    # Padding\n",
    "    pad_width = max_frames - mfccs.shape[1]\n",
    "    mfccs = np.pad(mfccs, pad_width=((0, 0), (0, pad_width)), mode='constant')\n",
    "\n",
    "    pad_width_mels = max_frames - mels.shape[1]\n",
    "    mels = np.pad(mels, pad_width=((0, 0), (0, pad_width_mels)), mode='constant')\n",
    "\n",
    "    return mfccs, mels\n"
   ]
  },
  {
   "cell_type": "code",
   "execution_count": 54,
   "metadata": {},
   "outputs": [],
   "source": [
    "# cnn\n",
    "def cnn(num_rows=40, num_columns=174, num_labels=10):\n",
    "    model = Sequential()\n",
    "    model.add(Conv2D(filters=16, kernel_size=2, input_shape=(num_rows, num_columns, 1), activation='relu'))\n",
    "    model.add(MaxPooling2D(pool_size=2))\n",
    "    model.add(Dropout(0.2))\n",
    "    model.add(Conv2D(filters=32, kernel_size=2, activation='relu'))\n",
    "    model.add(MaxPooling2D(pool_size=2))\n",
    "    model.add(Dropout(0.2))\n",
    "    model.add(Conv2D(filters=64, kernel_size=2, activation='relu'))\n",
    "    model.add(MaxPooling2D(pool_size=2))\n",
    "    model.add(Dropout(0.2))\n",
    "    model.add(Conv2D(filters=128, kernel_size=2, activation='relu'))\n",
    "    model.add(MaxPooling2D(pool_size=2))\n",
    "    model.add(Dropout(0.2))\n",
    "    model.add(GlobalAveragePooling2D())\n",
    "    model.add(Dense(num_labels, activation='softmax'))\n",
    "    model.compile(loss='categorical_crossentropy', metrics=['accuracy'], optimizer='adam')\n",
    "    return model"
   ]
  },
  {
   "cell_type": "code",
   "execution_count": 34,
   "metadata": {},
   "outputs": [],
   "source": [
    "import matplotlib.pyplot as plt\n",
    "import seaborn as sns\n",
    "import random\n",
    "def display_sample_data(features):\n",
    "    random_index = np.random.randint(0, len(features))\n",
    "    random_mfcc = features[random_index][0]\n",
    "    \n",
    "    # Remove the extra dimension if present\n",
    "    if random_mfcc.ndim > 1:\n",
    "        random_mfcc = random_mfcc.squeeze()\n",
    "    \n",
    "    random_mfcc = np.transpose(random_mfcc)  # Transpose the data\n",
    "    \n",
    "    plt.figure(figsize=(10, 4))\n",
    "    sns.heatmap(random_mfcc, cmap='viridis')\n",
    "    plt.title('MFCC')\n",
    "    plt.show()"
   ]
  },
  {
   "cell_type": "code",
   "execution_count": 70,
   "metadata": {},
   "outputs": [],
   "source": [
    "# extract feature\n",
    "for idx, row in metadata.iterrows():\n",
    "    filename = os.path.join('C:/Users/zzzl0/Desktop/predicting-and-avoiding-dog-barking-behaviour/predicting-and-avoiding-dog-barking-behaviour/UrbanSound8K/audio',\n",
    "                            'fold' + str(row['fold']), row['slice_file_name'])\n",
    "    mfccs, mels = mfcc_mels(filename)\n",
    "    mels_db = librosa.power_to_db(mels, ref=np.max)\n",
    "    \n",
    "    # Save MFCC and mel spectrogram as numpy arrays\n",
    "    np.save(f'mfcc/{row[\"slice_file_name\"]}.npy', mfccs)\n",
    "    np.save(f'spectrograms/{row[\"slice_file_name\"]}.npy', mels_db)"
   ]
  },
  {
   "cell_type": "code",
   "execution_count": null,
   "metadata": {},
   "outputs": [],
   "source": [
    "def multi_input_cnn(input_shape_mfcc, input_shape_mels, num_classes):\n",
    "    # mfcc\n",
    "    input_mfcc = Input(shape=input_shape_mfcc)\n",
    "    x = Conv2D(32, kernel_size=(3, 3), activation='relu')(input_mfcc)\n",
    "    x = MaxPooling2D(pool_size=(2, 2))(x)\n",
    "    x = Flatten()(x)\n",
    "\n",
    "    # mels\n",
    "    input_mels = Input(shape=input_shape_mels)\n",
    "    y = Conv2D(32, kernel_size=(3, 3), activation='relu')(input_mels)\n",
    "    y = MaxPooling2D(pool_size=(2, 2))(y)\n",
    "    y = Flatten()(y)\n",
    "\n",
    "    combined = concatenate([x, y])\n",
    "\n",
    "    z = Dense(64, activation='relu')(combined)\n",
    "    z = Dense(num_classes, activation='softmax')(z)\n",
    "\n",
    "    model = Model(inputs=[input_mfcc, input_mels], outputs=z)\n",
    "    model.compile(loss='categorical_crossentropy', optimizer='adam', metrics=['accuracy'])\n",
    "\n",
    "    return model"
   ]
  },
  {
   "cell_type": "code",
   "execution_count": 68,
   "metadata": {},
   "outputs": [
    {
     "name": "stdout",
     "output_type": "stream",
     "text": [
      "Processing fold 1\n"
     ]
    },
    {
     "name": "stderr",
     "output_type": "stream",
     "text": [
      "C:\\Users\\zzzl0\\AppData\\Local\\Temp\\ipykernel_3680\\4136128113.py:33: VisibleDeprecationWarning: Creating an ndarray from ragged nested sequences (which is a list-or-tuple of lists-or-tuples-or ndarrays with different lengths or shapes) is deprecated. If you meant to do this, you must specify 'dtype=object' when creating the ndarray.\n",
      "  X_train_mels = np.array([np.load(f'spectrograms/{filename}.npy') for filename in train_data['slice_file_name']])\n"
     ]
    },
    {
     "ename": "ValueError",
     "evalue": "could not broadcast input array from shape (128,14) into shape (128,)",
     "output_type": "error",
     "traceback": [
      "\u001b[1;31m---------------------------------------------------------------------------\u001b[0m",
      "\u001b[1;31mValueError\u001b[0m                                Traceback (most recent call last)",
      "Cell \u001b[1;32mIn[68], line 33\u001b[0m\n\u001b[0;32m     31\u001b[0m X_train_mfcc \u001b[39m=\u001b[39m np\u001b[39m.\u001b[39marray([np\u001b[39m.\u001b[39mload(\u001b[39mf\u001b[39m\u001b[39m'\u001b[39m\u001b[39mmfcc/\u001b[39m\u001b[39m{\u001b[39;00mfilename\u001b[39m}\u001b[39;00m\u001b[39m.npy\u001b[39m\u001b[39m'\u001b[39m) \u001b[39mfor\u001b[39;00m filename \u001b[39min\u001b[39;00m train_data[\u001b[39m'\u001b[39m\u001b[39mslice_file_name\u001b[39m\u001b[39m'\u001b[39m]])\n\u001b[0;32m     32\u001b[0m X_test_mfcc \u001b[39m=\u001b[39m np\u001b[39m.\u001b[39marray([np\u001b[39m.\u001b[39mload(\u001b[39mf\u001b[39m\u001b[39m'\u001b[39m\u001b[39mmfcc/\u001b[39m\u001b[39m{\u001b[39;00mfilename\u001b[39m}\u001b[39;00m\u001b[39m.npy\u001b[39m\u001b[39m'\u001b[39m) \u001b[39mfor\u001b[39;00m filename \u001b[39min\u001b[39;00m test_data[\u001b[39m'\u001b[39m\u001b[39mslice_file_name\u001b[39m\u001b[39m'\u001b[39m]])\n\u001b[1;32m---> 33\u001b[0m X_train_mels \u001b[39m=\u001b[39m np\u001b[39m.\u001b[39;49marray([np\u001b[39m.\u001b[39;49mload(\u001b[39mf\u001b[39;49m\u001b[39m'\u001b[39;49m\u001b[39mspectrograms/\u001b[39;49m\u001b[39m{\u001b[39;49;00mfilename\u001b[39m}\u001b[39;49;00m\u001b[39m.npy\u001b[39;49m\u001b[39m'\u001b[39;49m) \u001b[39mfor\u001b[39;49;00m filename \u001b[39min\u001b[39;49;00m train_data[\u001b[39m'\u001b[39;49m\u001b[39mslice_file_name\u001b[39;49m\u001b[39m'\u001b[39;49m]])\n\u001b[0;32m     34\u001b[0m X_test_mels \u001b[39m=\u001b[39m np\u001b[39m.\u001b[39marray([np\u001b[39m.\u001b[39mload(\u001b[39mf\u001b[39m\u001b[39m'\u001b[39m\u001b[39mspectrograms/\u001b[39m\u001b[39m{\u001b[39;00mfilename\u001b[39m}\u001b[39;00m\u001b[39m.npy\u001b[39m\u001b[39m'\u001b[39m) \u001b[39mfor\u001b[39;00m filename \u001b[39min\u001b[39;00m test_data[\u001b[39m'\u001b[39m\u001b[39mslice_file_name\u001b[39m\u001b[39m'\u001b[39m]])\n\u001b[0;32m     36\u001b[0m y_train \u001b[39m=\u001b[39m np\u001b[39m.\u001b[39marray(train_data\u001b[39m.\u001b[39mclassID\u001b[39m.\u001b[39mtolist())\n",
      "\u001b[1;31mValueError\u001b[0m: could not broadcast input array from shape (128,14) into shape (128,)"
     ]
    }
   ],
   "source": [
    "fold_accuracies = []\n",
    "\n",
    "for i in range(1, 11):  # 10-fold\n",
    "    print(f\"Processing fold {i}\")\n",
    "    test_data = metadata[metadata['fold'] == i]\n",
    "    train_data = metadata[metadata['fold'] != i]\n",
    "\n",
    "    X_train_mfcc = np.array([np.load(f'mfcc/{filename}.npy') for filename in train_data['slice_file_name']])\n",
    "    X_test_mfcc = np.array([np.load(f'mfcc/{filename}.npy') for filename in test_data['slice_file_name']])\n",
    "    X_train_mels = np.array([np.load(f'spectrograms/{filename}.npy') for filename in train_data['slice_file_name']])\n",
    "    X_test_mels = np.array([np.load(f'spectrograms/{filename}.npy') for filename in test_data['slice_file_name']])\n",
    "\n",
    "    y_train = np.array(train_data.classID.tolist())\n",
    "    y_test = np.array(test_data.classID.tolist())\n",
    "\n",
    "    le = LabelEncoder()\n",
    "    y_train = to_categorical(le.fit_transform(y_train))\n",
    "    y_test = to_categorical(le.fit_transform(y_test))\n",
    "\n",
    "    X_train_mfcc = X_train_mfcc.reshape(list(X_train_mfcc.shape) + [1])\n",
    "    X_test_mfcc = X_test_mfcc.reshape(list(X_test_mfcc.shape) + [1])\n",
    "    X_train_mels = X_train_mels.reshape(list(X_train_mels.shape) + [1])\n",
    "    X_test_mels = X_test_mels.reshape(list(X_test_mels.shape) + [1])\n",
    "\n",
    "    model = multi_input_cnn(X_train_mfcc.shape[1:], X_train_mels.shape[1:], y_train.shape[1])\n",
    "\n",
    "    model.fit([X_train_mfcc, X_train_mels], y_train, epochs=50, batch_size=256, verbose=1)\n",
    "\n",
    "    predictions = model.predict([X_test_mfcc, X_test_mels])\n",
    "    predicted_classes = np.argmax(predictions, axis=1)\n",
    "    true_classes = np.argmax(y_test, axis=1)\n",
    "\n",
    "    fold_accuracy = accuracy_score(true_classes, predicted_classes)\n",
    "    print(f\"Accuracy for fold {i}: {fold_accuracy}\")\n",
    "    fold_accuracies.append(fold_accuracy)\n",
    "\n",
    "print(f\"10-fold cross validation accuracy: {np.mean(fold_accuracies)}\")\n"
   ]
  },
  {
   "cell_type": "code",
   "execution_count": 51,
   "metadata": {},
   "outputs": [
    {
     "name": "stdout",
     "output_type": "stream",
     "text": [
      "Processing fold 1\n",
      "['[[-335.0899    -176.70966    -98.33869   ...    0.           0.\\n     0.       ]\\n [ 123.720276    93.342224    73.104996  ...    0.           0.\\n     0.       ]\\n [-107.11308   -130.0589    -140.83406   ...    0.           0.\\n     0.       ]\\n ...\\n [  -0.7318518   -3.3524568    1.4595318 ...    0.           0.\\n     0.       ]\\n [  -1.2285595   -6.2156386   -3.4106543 ...    0.           0.\\n     0.       ]\\n [   1.3734672    0.8792412   -2.305119  ...    0.           0.\\n     0.       ]]'\n",
      " '[[-4.9213760e+02 -4.5506793e+02 -4.4995038e+02 ... -4.2620395e+02\\n  -4.3866394e+02  0.0000000e+00]\\n [ 9.9069496e+01  1.0991300e+02  1.1022446e+02 ...  8.2632080e+01\\n   7.8532516e+01  0.0000000e+00]\\n [-2.5339600e+01 -2.3277763e+01 -2.6389969e+01 ... -3.6936787e+01\\n  -3.5359982e+01  0.0000000e+00]\\n ...\\n [ 3.0628052e+00  1.4575152e+00  2.5828087e+00 ... -9.7630253e+00\\n  -4.8640299e+00  0.0000000e+00]\\n [ 1.4688897e+00  1.4382362e-02  1.7576518e+00 ...  1.6039455e+01\\n   1.2261508e+01  0.0000000e+00]\\n [-2.1409318e+00  2.2889049e+00  4.4503384e+00 ...  7.4534497e+00\\n   3.8171194e+00  0.0000000e+00]]'\n",
      " '[[-4.96663452e+02 -4.71209595e+02 -4.79958984e+02 ... -4.58448456e+02\\n  -4.72931030e+02  0.00000000e+00]\\n [ 1.15168884e+02  1.19464294e+02  1.17179985e+02 ...  1.19054230e+02\\n   1.16064026e+02  0.00000000e+00]\\n [-2.54650974e+01 -3.53631020e+01 -4.00920906e+01 ... -4.25979004e+01\\n  -3.72513733e+01  0.00000000e+00]\\n ...\\n [-1.02431917e+00 -2.77775288e-01  1.01281250e+00 ...  9.34566212e+00\\n   8.35810184e+00  0.00000000e+00]\\n [-1.09532392e+00 -2.11640215e+00  2.74308276e+00 ...  1.32882166e+01\\n   1.48388319e+01  0.00000000e+00]\\n [-1.00706797e+01 -1.04514894e+01 -4.44589138e+00 ...  9.21449304e-01\\n   3.07771921e-01  0.00000000e+00]]'\n",
      " ...\n",
      " '[[-328.5971    -301.97617   -303.94327   ...    0.           0.\\n     0.       ]\\n [ 111.6257     109.839294   108.96889   ...    0.           0.\\n     0.       ]\\n [ -35.402893   -44.84395    -49.345783  ...    0.           0.\\n     0.       ]\\n ...\\n [  -2.4375675   -4.0554214   -3.1033075 ...    0.           0.\\n     0.       ]\\n [  11.027464    10.691387    12.850769  ...    0.           0.\\n     0.       ]\\n [  17.966042    18.639236    20.434261  ...    0.           0.\\n     0.       ]]'\n",
      " '[[-403.86734   -370.4796    -365.3907    ...    0.           0.\\n     0.       ]\\n [ 121.0491     125.87894    125.67908   ...    0.           0.\\n     0.       ]\\n [ -64.12075    -63.66212    -63.09048   ...    0.           0.\\n     0.       ]\\n ...\\n [  -6.3960123   -8.183968   -11.398815  ...    0.           0.\\n     0.       ]\\n [   3.6570423    0.9336534    4.2012424 ...    0.           0.\\n     0.       ]\\n [   7.5970116    4.8733654    5.974989  ...    0.           0.\\n     0.       ]]'\n",
      " '[[-343.12646   -311.095     -307.4701    ...    0.           0.\\n     0.       ]\\n [  98.29208    105.213104   105.3869    ...    0.           0.\\n     0.       ]\\n [ -24.862766   -25.315495   -23.688902  ...    0.           0.\\n     0.       ]\\n ...\\n [  -0.526122    -2.797755    -5.2099414 ...    0.           0.\\n     0.       ]\\n [ -12.137143   -10.204719    -9.887949  ...    0.           0.\\n     0.       ]\\n [  -1.5168792   -0.6394445   -3.0408387 ...    0.           0.\\n     0.       ]]']\n"
     ]
    },
    {
     "ename": "ValueError",
     "evalue": "cannot reshape array of size 7079 into shape (7079,40,174,1)",
     "output_type": "error",
     "traceback": [
      "\u001b[1;31m---------------------------------------------------------------------------\u001b[0m",
      "\u001b[1;31mValueError\u001b[0m                                Traceback (most recent call last)",
      "Cell \u001b[1;32mIn[51], line 21\u001b[0m\n\u001b[0;32m     18\u001b[0m y_test \u001b[39m=\u001b[39m to_categorical(le\u001b[39m.\u001b[39mfit_transform(y_test))\n\u001b[0;32m     20\u001b[0m \u001b[39mprint\u001b[39m(X_train)\n\u001b[1;32m---> 21\u001b[0m X_train \u001b[39m=\u001b[39m X_train\u001b[39m.\u001b[39;49mreshape(X_train\u001b[39m.\u001b[39;49mshape[\u001b[39m0\u001b[39;49m], \u001b[39m40\u001b[39;49m, \u001b[39m174\u001b[39;49m, \u001b[39m1\u001b[39;49m)\n\u001b[0;32m     22\u001b[0m X_test \u001b[39m=\u001b[39m X_test\u001b[39m.\u001b[39mreshape(X_test\u001b[39m.\u001b[39mshape[\u001b[39m0\u001b[39m], \u001b[39m40\u001b[39m, \u001b[39m174\u001b[39m, \u001b[39m1\u001b[39m)\n\u001b[0;32m     24\u001b[0m model \u001b[39m=\u001b[39m cnn()\n",
      "\u001b[1;31mValueError\u001b[0m: cannot reshape array of size 7079 into shape (7079,40,174,1)"
     ]
    }
   ],
   "source": [
    "\"\"\"fold_accuracies = []\n",
    "\n",
    "# Loading MFCC features from the CSV file\n",
    "features_df = pd.read_csv('mfcc.csv')\n",
    "\n",
    "for i in range(1, 11):  # 10-fold\n",
    "    print(f\"Processing fold {i}\")\n",
    "    test_data = metadata[metadata['fold'] == i]\n",
    "    train_data = metadata[metadata['fold'] != i]\n",
    "\n",
    "    X_train_mfcc = np.array([np.load(f'mfcc/{filename}.npy') for filename in train_data['slice_file_name']])\n",
    "    X_test_mfcc = np.array([np.load(f'mfcc/{filename}.npy') for filename in test_data['slice_file_name']])\n",
    "    X_train_mels = np.array([np.load(f'spectrograms/{filename}.npy') for filename in train_data['slice_file_name']])\n",
    "    X_test_mels = np.array([np.load(f'spectrograms/{filename}.npy') for filename in test_data['slice_file_name']])\n",
    "\n",
    "    y_train = np.array(train_data.classID.tolist())\n",
    "    y_test = np.array(test_data.classID.tolist())\n",
    "\n",
    "\n",
    "    le = LabelEncoder()\n",
    "    y_train = to_categorical(le.fit_transform(y_train))\n",
    "    y_test = to_categorical(le.fit_transform(y_test))\n",
    "\n",
    "    print(X_train)\n",
    "    X_train = X_train.reshape(X_train.shape[0], 40, 174, 1)\n",
    "    X_test = X_test.reshape(X_test.shape[0], 40, 174, 1)\n",
    "\n",
    "    model = cnn()\n",
    "\n",
    "    model.fit(X_train, y_train, epochs=50, batch_size=256, verbose=1)\n",
    "\n",
    "    predictions = model.predict(X_test)\n",
    "    predicted_classes = np.argmax(predictions, axis=1)\n",
    "    true_classes = np.argmax(y_test, axis=1)\n",
    "    fold_accuracy = accuracy_score(true_classes, predicted_classes)\n",
    "    print(f\"Accuracy for fold {i}: {fold_accuracy}\")\n",
    "    fold_accuracies.append(fold_accuracy)\n",
    "\n",
    "print(f\"10-fold cross validation accuracy: {np.mean(fold_accuracies)}\")\n",
    "\"\"\""
   ]
  }
 ],
 "metadata": {
  "kernelspec": {
   "display_name": "base",
   "language": "python",
   "name": "python3"
  },
  "language_info": {
   "codemirror_mode": {
    "name": "ipython",
    "version": 3
   },
   "file_extension": ".py",
   "mimetype": "text/x-python",
   "name": "python",
   "nbconvert_exporter": "python",
   "pygments_lexer": "ipython3",
   "version": "3.10.9"
  },
  "orig_nbformat": 4
 },
 "nbformat": 4,
 "nbformat_minor": 2
}
