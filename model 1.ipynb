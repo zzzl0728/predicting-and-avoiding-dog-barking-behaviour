{
 "cells": [
  {
   "attachments": {},
   "cell_type": "markdown",
   "metadata": {},
   "source": [
    "### Model 1 - Enviormental sound classifiers"
   ]
  },
  {
   "cell_type": "code",
   "execution_count": 1,
   "metadata": {},
   "outputs": [
    {
     "name": "stdout",
     "output_type": "stream",
     "text": [
      "Num GPUs Available:  0\n"
     ]
    }
   ],
   "source": [
    "import tensorflow as tf\n",
    "print(\"Num GPUs Available: \", len(tf.config.list_physical_devices('GPU')))"
   ]
  },
  {
   "cell_type": "code",
   "execution_count": 2,
   "metadata": {},
   "outputs": [],
   "source": [
    "from sklearn.metrics import accuracy_score\n",
    "from sklearn.preprocessing import LabelEncoder\n",
    "import librosa\n",
    "import numpy as np\n",
    "import pandas as pd\n",
    "import os\n",
    "from keras.models import Sequential\n",
    "from keras.layers import Dense, Dropout, Activation, Flatten\n",
    "from keras.layers import Convolution2D, Conv2D, MaxPooling2D, GlobalAveragePooling2D\n",
    "from keras.optimizers import Adam\n",
    "from keras.utils import np_utils\n",
    "from keras.utils import to_categorical\n",
    "\n",
    "from sklearn import metrics \n",
    "# Load metadata\n",
    "metadata = pd.read_csv('C:/Users/zzzl0/Desktop/predicting-and-avoiding-dog-barking-behaviour/predicting-and-avoiding-dog-barking-behaviour/UrbanSound8K/metadata/model1.csv')"
   ]
  },
  {
   "cell_type": "code",
   "execution_count": 3,
   "metadata": {},
   "outputs": [],
   "source": [
    "# mfcc\n",
    "\n",
    "def mfcc(file_name):\n",
    "    print(os.path.exists(file_name))  # Should be True\n",
    "\n",
    "    #try:\n",
    "    audio, sample_rate = librosa.load(file_name, res_type='kaiser_fast') \n",
    "\n",
    "    #except Exception as e:\n",
    "       # print(\"Error encountered while parsing file: \", file_name)\n",
    "        # return None \n",
    "\n",
    "\n",
    "    mfccs = librosa.feature.mfcc(y=audio, sr=sample_rate, n_mfcc=40)\n",
    "    pad_width = 174 - mfccs.shape[1]\n",
    "    mfccs = np.pad(mfccs, pad_width=((0, 0), (0, pad_width)), mode='constant')\n",
    "    return mfccs\n"
   ]
  },
  {
   "cell_type": "code",
   "execution_count": 4,
   "metadata": {},
   "outputs": [],
   "source": [
    "# cnn\n",
    "def cnn(num_rows=40, num_columns=174, num_labels=10):\n",
    "    model = Sequential()\n",
    "    model.add(Conv2D(filters=16, kernel_size=2, input_shape=(num_rows, num_columns, 1), activation='relu'))\n",
    "    model.add(MaxPooling2D(pool_size=2))\n",
    "    model.add(Dropout(0.2))\n",
    "    model.add(Conv2D(filters=32, kernel_size=2, activation='relu'))\n",
    "    model.add(MaxPooling2D(pool_size=2))\n",
    "    model.add(Dropout(0.2))\n",
    "    model.add(Conv2D(filters=64, kernel_size=2, activation='relu'))\n",
    "    model.add(MaxPooling2D(pool_size=2))\n",
    "    model.add(Dropout(0.2))\n",
    "    model.add(Conv2D(filters=128, kernel_size=2, activation='relu'))\n",
    "    model.add(MaxPooling2D(pool_size=2))\n",
    "    model.add(Dropout(0.2))\n",
    "    model.add(GlobalAveragePooling2D())\n",
    "    model.add(Dense(num_labels, activation='softmax'))\n",
    "    model.compile(loss='categorical_crossentropy', metrics=['accuracy'], optimizer='adam')\n",
    "    return model"
   ]
  },
  {
   "cell_type": "code",
   "execution_count": 5,
   "metadata": {},
   "outputs": [],
   "source": [
    "import matplotlib.pyplot as plt\n",
    "import seaborn as sns\n",
    "import random\n",
    "def display_sample_data(features):\n",
    "    random_index = random.choice(range(len(features)))\n",
    "    random_mfcc = features[random_index][0]\n",
    "\n",
    "    plt.figure(figsize=(10, 4))\n",
    "    sns.heatmap(random_mfcc.T, cmap='viridis')\n",
    "    plt.title('MFCC')\n",
    "    plt.show()"
   ]
  },
  {
   "cell_type": "code",
   "execution_count": 6,
   "metadata": {},
   "outputs": [
    {
     "name": "stdout",
     "output_type": "stream",
     "text": [
      "Processing fold 1\n",
      "True\n"
     ]
    },
    {
     "ename": "OSError",
     "evalue": "cannot load library 'libsndfile.dll': error 0x7e",
     "output_type": "error",
     "traceback": [
      "\u001b[1;31m---------------------------------------------------------------------------\u001b[0m",
      "\u001b[1;31mModuleNotFoundError\u001b[0m                       Traceback (most recent call last)",
      "File \u001b[1;32mc:\\ProgramData\\anaconda3\\lib\\site-packages\\soundfile.py:161\u001b[0m\n\u001b[0;32m    159\u001b[0m     \u001b[39mraise\u001b[39;00m \u001b[39mOSError\u001b[39;00m(\u001b[39m'\u001b[39m\u001b[39mno packaged library for this platform\u001b[39m\u001b[39m'\u001b[39m)\n\u001b[1;32m--> 161\u001b[0m \u001b[39mimport\u001b[39;00m \u001b[39m_soundfile_data\u001b[39;00m  \u001b[39m# ImportError if this doesn't exist\u001b[39;00m\n\u001b[0;32m    162\u001b[0m _path \u001b[39m=\u001b[39m _os\u001b[39m.\u001b[39mpath\u001b[39m.\u001b[39mdirname(_soundfile_data\u001b[39m.\u001b[39m\u001b[39m__file__\u001b[39m)  \u001b[39m# TypeError if __file__ is None\u001b[39;00m\n",
      "\u001b[1;31mModuleNotFoundError\u001b[0m: No module named '_soundfile_data'",
      "\nDuring handling of the above exception, another exception occurred:\n",
      "\u001b[1;31mOSError\u001b[0m                                   Traceback (most recent call last)",
      "File \u001b[1;32mc:\\ProgramData\\anaconda3\\lib\\site-packages\\soundfile.py:171\u001b[0m\n\u001b[0;32m    170\u001b[0m         \u001b[39mraise\u001b[39;00m \u001b[39mOSError\u001b[39;00m(\u001b[39m'\u001b[39m\u001b[39msndfile library not found using ctypes.util.find_library\u001b[39m\u001b[39m'\u001b[39m)\n\u001b[1;32m--> 171\u001b[0m     _snd \u001b[39m=\u001b[39m _ffi\u001b[39m.\u001b[39;49mdlopen(_libname)\n\u001b[0;32m    173\u001b[0m \u001b[39mexcept\u001b[39;00m \u001b[39mOSError\u001b[39;00m:\n\u001b[0;32m    174\u001b[0m     \u001b[39m# Try explicit file name, if the general does not work (e.g. on nixos)\u001b[39;00m\n",
      "\u001b[1;31mOSError\u001b[0m: cannot load library 'C:\\ProgramData\\anaconda3\\Library\\bin\\sndfile.dll': error 0x7e",
      "\nDuring handling of the above exception, another exception occurred:\n",
      "\u001b[1;31mOSError\u001b[0m                                   Traceback (most recent call last)",
      "Cell \u001b[1;32mIn[6], line 10\u001b[0m\n\u001b[0;32m      8\u001b[0m test_features \u001b[39m=\u001b[39m []\n\u001b[0;32m      9\u001b[0m \u001b[39mfor\u001b[39;00m idx, row \u001b[39min\u001b[39;00m train_data\u001b[39m.\u001b[39miterrows():\n\u001b[1;32m---> 10\u001b[0m     train_features\u001b[39m.\u001b[39mappend([mfcc(os\u001b[39m.\u001b[39;49mpath\u001b[39m.\u001b[39;49mjoin(\u001b[39m'\u001b[39;49m\u001b[39mC:/Users/zzzl0/Desktop/predicting-and-avoiding-dog-barking-behaviour/predicting-and-avoiding-dog-barking-behaviour/UrbanSound8K/audio\u001b[39;49m\u001b[39m'\u001b[39;49m,\n\u001b[0;32m     11\u001b[0m                                                           \u001b[39m'\u001b[39;49m\u001b[39mfold\u001b[39;49m\u001b[39m'\u001b[39;49m \u001b[39m+\u001b[39;49m \u001b[39mstr\u001b[39;49m(row[\u001b[39m'\u001b[39;49m\u001b[39mfold\u001b[39;49m\u001b[39m'\u001b[39;49m]), row[\u001b[39m'\u001b[39;49m\u001b[39mslice_file_name\u001b[39;49m\u001b[39m'\u001b[39;49m])), row[\u001b[39m'\u001b[39m\u001b[39mclassID\u001b[39m\u001b[39m'\u001b[39m]])\n\u001b[0;32m     12\u001b[0m \u001b[39mfor\u001b[39;00m idx, row \u001b[39min\u001b[39;00m test_data\u001b[39m.\u001b[39miterrows():\n\u001b[0;32m     13\u001b[0m     test_features\u001b[39m.\u001b[39mappend([mfcc(os\u001b[39m.\u001b[39mpath\u001b[39m.\u001b[39mjoin(\u001b[39m'\u001b[39m\u001b[39mC:/Users/zzzl0/Desktop/predicting-and-avoiding-dog-barking-behaviour/predicting-and-avoiding-dog-barking-behaviour/UrbanSound8K/audio\u001b[39m\u001b[39m'\u001b[39m,\n\u001b[0;32m     14\u001b[0m                                                          \u001b[39m'\u001b[39m\u001b[39mfold\u001b[39m\u001b[39m'\u001b[39m \u001b[39m+\u001b[39m \u001b[39mstr\u001b[39m(row[\u001b[39m'\u001b[39m\u001b[39mfold\u001b[39m\u001b[39m'\u001b[39m]), row[\u001b[39m'\u001b[39m\u001b[39mslice_file_name\u001b[39m\u001b[39m'\u001b[39m])), row[\u001b[39m'\u001b[39m\u001b[39mclassID\u001b[39m\u001b[39m'\u001b[39m]])\n",
      "Cell \u001b[1;32mIn[3], line 7\u001b[0m, in \u001b[0;36mmfcc\u001b[1;34m(file_name)\u001b[0m\n\u001b[0;32m      4\u001b[0m \u001b[39mprint\u001b[39m(os\u001b[39m.\u001b[39mpath\u001b[39m.\u001b[39mexists(file_name))  \u001b[39m# Should be True\u001b[39;00m\n\u001b[0;32m      6\u001b[0m \u001b[39m#try:\u001b[39;00m\n\u001b[1;32m----> 7\u001b[0m audio, sample_rate \u001b[39m=\u001b[39m librosa\u001b[39m.\u001b[39;49mload(file_name, res_type\u001b[39m=\u001b[39m\u001b[39m'\u001b[39m\u001b[39mkaiser_fast\u001b[39m\u001b[39m'\u001b[39m) \n\u001b[0;32m      9\u001b[0m \u001b[39m#except Exception as e:\u001b[39;00m\n\u001b[0;32m     10\u001b[0m    \u001b[39m# print(\"Error encountered while parsing file: \", file_name)\u001b[39;00m\n\u001b[0;32m     11\u001b[0m     \u001b[39m# return None \u001b[39;00m\n\u001b[0;32m     14\u001b[0m mfccs \u001b[39m=\u001b[39m librosa\u001b[39m.\u001b[39mfeature\u001b[39m.\u001b[39mmfcc(y\u001b[39m=\u001b[39maudio, sr\u001b[39m=\u001b[39msample_rate, n_mfcc\u001b[39m=\u001b[39m\u001b[39m40\u001b[39m)\n",
      "File \u001b[1;32mc:\\ProgramData\\anaconda3\\lib\\site-packages\\lazy_loader\\__init__.py:77\u001b[0m, in \u001b[0;36mattach.<locals>.__getattr__\u001b[1;34m(name)\u001b[0m\n\u001b[0;32m     75\u001b[0m submod_path \u001b[39m=\u001b[39m \u001b[39mf\u001b[39m\u001b[39m\"\u001b[39m\u001b[39m{\u001b[39;00mpackage_name\u001b[39m}\u001b[39;00m\u001b[39m.\u001b[39m\u001b[39m{\u001b[39;00mattr_to_modules[name]\u001b[39m}\u001b[39;00m\u001b[39m\"\u001b[39m\n\u001b[0;32m     76\u001b[0m submod \u001b[39m=\u001b[39m importlib\u001b[39m.\u001b[39mimport_module(submod_path)\n\u001b[1;32m---> 77\u001b[0m attr \u001b[39m=\u001b[39m \u001b[39mgetattr\u001b[39;49m(submod, name)\n\u001b[0;32m     79\u001b[0m \u001b[39m# If the attribute lives in a file (module) with the same\u001b[39;00m\n\u001b[0;32m     80\u001b[0m \u001b[39m# name as the attribute, ensure that the attribute and *not*\u001b[39;00m\n\u001b[0;32m     81\u001b[0m \u001b[39m# the module is accessible on the package.\u001b[39;00m\n\u001b[0;32m     82\u001b[0m \u001b[39mif\u001b[39;00m name \u001b[39m==\u001b[39m attr_to_modules[name]:\n",
      "File \u001b[1;32mc:\\ProgramData\\anaconda3\\lib\\site-packages\\lazy_loader\\__init__.py:76\u001b[0m, in \u001b[0;36mattach.<locals>.__getattr__\u001b[1;34m(name)\u001b[0m\n\u001b[0;32m     74\u001b[0m \u001b[39melif\u001b[39;00m name \u001b[39min\u001b[39;00m attr_to_modules:\n\u001b[0;32m     75\u001b[0m     submod_path \u001b[39m=\u001b[39m \u001b[39mf\u001b[39m\u001b[39m\"\u001b[39m\u001b[39m{\u001b[39;00mpackage_name\u001b[39m}\u001b[39;00m\u001b[39m.\u001b[39m\u001b[39m{\u001b[39;00mattr_to_modules[name]\u001b[39m}\u001b[39;00m\u001b[39m\"\u001b[39m\n\u001b[1;32m---> 76\u001b[0m     submod \u001b[39m=\u001b[39m importlib\u001b[39m.\u001b[39;49mimport_module(submod_path)\n\u001b[0;32m     77\u001b[0m     attr \u001b[39m=\u001b[39m \u001b[39mgetattr\u001b[39m(submod, name)\n\u001b[0;32m     79\u001b[0m     \u001b[39m# If the attribute lives in a file (module) with the same\u001b[39;00m\n\u001b[0;32m     80\u001b[0m     \u001b[39m# name as the attribute, ensure that the attribute and *not*\u001b[39;00m\n\u001b[0;32m     81\u001b[0m     \u001b[39m# the module is accessible on the package.\u001b[39;00m\n",
      "File \u001b[1;32mc:\\ProgramData\\anaconda3\\lib\\importlib\\__init__.py:126\u001b[0m, in \u001b[0;36mimport_module\u001b[1;34m(name, package)\u001b[0m\n\u001b[0;32m    124\u001b[0m             \u001b[39mbreak\u001b[39;00m\n\u001b[0;32m    125\u001b[0m         level \u001b[39m+\u001b[39m\u001b[39m=\u001b[39m \u001b[39m1\u001b[39m\n\u001b[1;32m--> 126\u001b[0m \u001b[39mreturn\u001b[39;00m _bootstrap\u001b[39m.\u001b[39;49m_gcd_import(name[level:], package, level)\n",
      "File \u001b[1;32m<frozen importlib._bootstrap>:1050\u001b[0m, in \u001b[0;36m_gcd_import\u001b[1;34m(name, package, level)\u001b[0m\n",
      "File \u001b[1;32m<frozen importlib._bootstrap>:1027\u001b[0m, in \u001b[0;36m_find_and_load\u001b[1;34m(name, import_)\u001b[0m\n",
      "File \u001b[1;32m<frozen importlib._bootstrap>:1006\u001b[0m, in \u001b[0;36m_find_and_load_unlocked\u001b[1;34m(name, import_)\u001b[0m\n",
      "File \u001b[1;32m<frozen importlib._bootstrap>:688\u001b[0m, in \u001b[0;36m_load_unlocked\u001b[1;34m(spec)\u001b[0m\n",
      "File \u001b[1;32m<frozen importlib._bootstrap_external>:883\u001b[0m, in \u001b[0;36mexec_module\u001b[1;34m(self, module)\u001b[0m\n",
      "File \u001b[1;32m<frozen importlib._bootstrap>:241\u001b[0m, in \u001b[0;36m_call_with_frames_removed\u001b[1;34m(f, *args, **kwds)\u001b[0m\n",
      "File \u001b[1;32mc:\\ProgramData\\anaconda3\\lib\\site-packages\\librosa\\core\\audio.py:10\u001b[0m\n\u001b[0;32m      7\u001b[0m \u001b[39mimport\u001b[39;00m \u001b[39mpathlib\u001b[39;00m\n\u001b[0;32m      8\u001b[0m \u001b[39mimport\u001b[39;00m \u001b[39mwarnings\u001b[39;00m\n\u001b[1;32m---> 10\u001b[0m \u001b[39mimport\u001b[39;00m \u001b[39msoundfile\u001b[39;00m \u001b[39mas\u001b[39;00m \u001b[39msf\u001b[39;00m\n\u001b[0;32m     11\u001b[0m \u001b[39mimport\u001b[39;00m \u001b[39maudioread\u001b[39;00m\n\u001b[0;32m     12\u001b[0m \u001b[39mimport\u001b[39;00m \u001b[39mnumpy\u001b[39;00m \u001b[39mas\u001b[39;00m \u001b[39mnp\u001b[39;00m\n",
      "File \u001b[1;32mc:\\ProgramData\\anaconda3\\lib\\site-packages\\soundfile.py:192\u001b[0m\n\u001b[0;32m    190\u001b[0m             _snd \u001b[39m=\u001b[39m _ffi\u001b[39m.\u001b[39mdlopen(_os\u001b[39m.\u001b[39mpath\u001b[39m.\u001b[39mjoin(_hbrew_path, _explicit_libname))\n\u001b[0;32m    191\u001b[0m         \u001b[39melse\u001b[39;00m:\n\u001b[1;32m--> 192\u001b[0m             _snd \u001b[39m=\u001b[39m _ffi\u001b[39m.\u001b[39;49mdlopen(_explicit_libname)\n\u001b[0;32m    194\u001b[0m __libsndfile_version__ \u001b[39m=\u001b[39m _ffi\u001b[39m.\u001b[39mstring(_snd\u001b[39m.\u001b[39msf_version_string())\u001b[39m.\u001b[39mdecode(\u001b[39m'\u001b[39m\u001b[39mutf-8\u001b[39m\u001b[39m'\u001b[39m, \u001b[39m'\u001b[39m\u001b[39mreplace\u001b[39m\u001b[39m'\u001b[39m)\n\u001b[0;32m    195\u001b[0m \u001b[39mif\u001b[39;00m __libsndfile_version__\u001b[39m.\u001b[39mstartswith(\u001b[39m'\u001b[39m\u001b[39mlibsndfile-\u001b[39m\u001b[39m'\u001b[39m):\n",
      "\u001b[1;31mOSError\u001b[0m: cannot load library 'libsndfile.dll': error 0x7e"
     ]
    }
   ],
   "source": [
    "fold_accuracies = []\n",
    "for i in range(1, 11): # 10-fold\n",
    "    print(f\"Processing fold {i}\")\n",
    "    test_data = metadata[metadata['fold'] == i]\n",
    "    train_data = metadata[metadata['fold'] != i]\n",
    "    \n",
    "    train_features = []\n",
    "    test_features = []\n",
    "    for idx, row in train_data.iterrows():\n",
    "        train_features.append([mfcc(os.path.join('C:/Users/zzzl0/Desktop/predicting-and-avoiding-dog-barking-behaviour/predicting-and-avoiding-dog-barking-behaviour/UrbanSound8K/audio',\n",
    "                                                              'fold' + str(row['fold']), row['slice_file_name'])), row['classID']])\n",
    "    for idx, row in test_data.iterrows():\n",
    "        test_features.append([mfcc(os.path.join('C:/Users/zzzl0/Desktop/predicting-and-avoiding-dog-barking-behaviour/predicting-and-avoiding-dog-barking-behaviour/UrbanSound8K/audio',\n",
    "                                                             'fold' + str(row['fold']), row['slice_file_name'])), row['classID']])\n",
    "    train_features_df = pd.DataFrame(train_features, columns=['feature', 'class_label'])\n",
    "    test_features_df = pd.DataFrame(test_features, columns=['feature', 'class_label'])\n",
    "    \n",
    "    X_train = np.array(train_features_df.feature.tolist())\n",
    "    y_train = np.array(train_features_df.class_label.tolist())\n",
    "    X_test = np.array(test_features_df.feature.tolist())\n",
    "    y_test = np.array(test_features_df.class_label.tolist())\n",
    "    \n",
    "    display_sample_data(X_train)\n",
    "\n",
    "    le = LabelEncoder()\n",
    "    y_train = to_categorical(le.fit_transform(y_train))\n",
    "    y_test = to_categorical(le.fit_transform(y_test))\n",
    "    \n",
    "    X_train = X_train.reshape(X_train.shape[0], 40, 174, 1)\n",
    "    X_test = X_test.reshape(X_test.shape[0], 40, 174, 1)\n",
    "    \n",
    "    model = cnn()\n",
    "    \n",
    "    model.fit(X_train, y_train, epochs=50, batch_size=256, verbose=1)\n",
    "    \n",
    "    predictions = model.predict(X_test)\n",
    "    predicted_classes = np.argmax(predictions, axis=1)\n",
    "    true_classes = np.argmax(y_test, axis=1)\n",
    "    fold_accuracy = accuracy_score(true_classes, predicted_classes)\n",
    "    print(f\"Accuracy for fold {i}: {fold_accuracy}\")\n",
    "    fold_accuracies.append(fold_accuracy)\n",
    "\n",
    "print(f\"10-fold cross validation accuracy: {np.mean(fold_accuracies)}\")"
   ]
  }
 ],
 "metadata": {
  "kernelspec": {
   "display_name": "base",
   "language": "python",
   "name": "python3"
  },
  "language_info": {
   "codemirror_mode": {
    "name": "ipython",
    "version": 3
   },
   "file_extension": ".py",
   "mimetype": "text/x-python",
   "name": "python",
   "nbconvert_exporter": "python",
   "pygments_lexer": "ipython3",
   "version": "3.10.9"
  },
  "orig_nbformat": 4
 },
 "nbformat": 4,
 "nbformat_minor": 2
}
