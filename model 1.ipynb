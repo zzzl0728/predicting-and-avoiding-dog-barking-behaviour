{
 "cells": [
  {
   "attachments": {},
   "cell_type": "markdown",
   "metadata": {},
   "source": [
    "### Model 1 - Enviormental sound classifiers"
   ]
  },
  {
   "cell_type": "code",
   "execution_count": 5,
   "metadata": {},
   "outputs": [
    {
     "name": "stdout",
     "output_type": "stream",
     "text": [
      "Num GPUs Available:  0\n"
     ]
    }
   ],
   "source": [
    "import tensorflow as tf\n",
    "print(\"Num GPUs Available: \", len(tf.config.list_physical_devices('GPU')))"
   ]
  },
  {
   "cell_type": "code",
   "execution_count": null,
   "metadata": {},
   "outputs": [],
   "source": [
    "from sklearn.metrics import accuracy_score\n",
    "from sklearn.preprocessing import LabelEncoder\n",
    "import librosa\n",
    "import numpy as np\n",
    "import pandas as pd\n",
    "import os\n",
    "from keras.models import Sequential\n",
    "from keras.layers import Dense, Dropout, Activation, Flatten\n",
    "from keras.layers import Convolution2D, Conv2D, MaxPooling2D, GlobalAveragePooling2D\n",
    "from keras.optimizers import Adam\n",
    "from keras.utils import np_utils\n",
    "from keras.utils import to_categorical\n",
    "\n",
    "from sklearn import metrics \n",
    "# Load metadata\n",
    "metadata = pd.read_csv('C:/Users/zzzl0/Desktop/predicting-and-avoiding-dog-barking-behaviour/predicting-and-avoiding-dog-barking-behaviour/UrbanSound8K/metadata/model1.csv')"
   ]
  },
  {
   "cell_type": "code",
   "execution_count": 3,
   "metadata": {},
   "outputs": [],
   "source": [
    "# mfcc\n",
    "def mfcc(file_name):\n",
    "    try:\n",
    "        audio, sample_rate = librosa.load(file_name, res_type='kaiser_fast') \n",
    "        mfccs = librosa.feature.mfcc(y=audio, sr=sample_rate, n_mfcc=40)\n",
    "        pad_width = 174 - mfccs.shape[1]\n",
    "        mfccs = np.pad(mfccs, pad_width=((0, 0), (0, pad_width)), mode='constant')\n",
    "\n",
    "    except Exception as e:\n",
    "        print(\"Error encountered while parsing file: \", file_name)\n",
    "        return None \n",
    " \n",
    "    return mfccs\n"
   ]
  },
  {
   "cell_type": "code",
   "execution_count": 4,
   "metadata": {},
   "outputs": [],
   "source": [
    "# cnn\n",
    "def cnn(num_rows=40, num_columns=174, num_labels=10):\n",
    "    model = Sequential()\n",
    "    model.add(Conv2D(filters=16, kernel_size=2, input_shape=(num_rows, num_columns, 1), activation='relu'))\n",
    "    model.add(MaxPooling2D(pool_size=2))\n",
    "    model.add(Dropout(0.2))\n",
    "    model.add(Conv2D(filters=32, kernel_size=2, activation='relu'))\n",
    "    model.add(MaxPooling2D(pool_size=2))\n",
    "    model.add(Dropout(0.2))\n",
    "    model.add(Conv2D(filters=64, kernel_size=2, activation='relu'))\n",
    "    model.add(MaxPooling2D(pool_size=2))\n",
    "    model.add(Dropout(0.2))\n",
    "    model.add(Conv2D(filters=128, kernel_size=2, activation='relu'))\n",
    "    model.add(MaxPooling2D(pool_size=2))\n",
    "    model.add(Dropout(0.2))\n",
    "    model.add(GlobalAveragePooling2D())\n",
    "    model.add(Dense(num_labels, activation='softmax'))\n",
    "    model.compile(loss='categorical_crossentropy', metrics=['accuracy'], optimizer='adam')\n",
    "    return model"
   ]
  },
  {
   "cell_type": "code",
   "execution_count": null,
   "metadata": {},
   "outputs": [],
   "source": [
    "fold_accuracies = []\n",
    "for i in range(1, 11): # 10-fold\n",
    "    print(f\"Processing fold {i}\")\n",
    "    test_data = metadata[metadata['fold'] == i]\n",
    "    train_data = metadata[metadata['fold'] != i]\n",
    "    \n",
    "    train_features = []\n",
    "    test_features = []\n",
    "    for idx, row in train_data.iterrows():\n",
    "        train_features.append([mfcc(os.path.join('C:/Users/zzzl0/Desktop/predicting-and-avoiding-dog-barking-behaviour/predicting-and-avoiding-dog-barking-behaviour/UrbanSound8K/audio',\n",
    "                                                              'fold' + str(row['fold']), row['slice_file_name'])), row['classID']])\n",
    "    for idx, row in test_data.iterrows():\n",
    "        test_features.append([mfcc(os.path.join('C:/Users/zzzl0/Desktop/predicting-and-avoiding-dog-barking-behaviour/predicting-and-avoiding-dog-barking-behaviour/UrbanSound8K/audio',\n",
    "                                                             'fold' + str(row['fold']), row['slice_file_name'])), row['classID']])\n",
    "    train_features_df = pd.DataFrame(train_features, columns=['feature', 'class_label'])\n",
    "    test_features_df = pd.DataFrame(test_features, columns=['feature', 'class_label'])\n",
    "    \n",
    "    X_train = np.array(train_features_df.feature.tolist())\n",
    "    y_train = np.array(train_features_df.class_label.tolist())\n",
    "    X_test = np.array(test_features_df.feature.tolist())\n",
    "    y_test = np.array(test_features_df.class_label.tolist())\n",
    "    \n",
    "    le = LabelEncoder()\n",
    "    y_train = to_categorical(le.fit_transform(y_train))\n",
    "    y_test = to_categorical(le.fit_transform(y_test))\n",
    "    \n",
    "    X_train = X_train.reshape(X_train.shape[0], 40, 174, 1)\n",
    "    X_test = X_test.reshape(X_test.shape[0], 40, 174, 1)\n",
    "    \n",
    "    model = cnn()\n",
    "    \n",
    "    model.fit(X_train, y_train, epochs=50, batch_size=256, verbose=1)\n",
    "    \n",
    "    predictions = model.predict(X_test)\n",
    "    predicted_classes = np.argmax(predictions, axis=1)\n",
    "    true_classes = np.argmax(y_test, axis=1)\n",
    "    fold_accuracy = accuracy_score(true_classes, predicted_classes)\n",
    "    print(f\"Accuracy for fold {i}: {fold_accuracy}\")\n",
    "    fold_accuracies.append(fold_accuracy)\n",
    "\n",
    "print(f\"10-fold cross validation accuracy: {np.mean(fold_accuracies)}\")"
   ]
  }
 ],
 "metadata": {
  "kernelspec": {
   "display_name": "base",
   "language": "python",
   "name": "python3"
  },
  "language_info": {
   "codemirror_mode": {
    "name": "ipython",
    "version": 3
   },
   "file_extension": ".py",
   "mimetype": "text/x-python",
   "name": "python",
   "nbconvert_exporter": "python",
   "pygments_lexer": "ipython3",
   "version": "3.10.9"
  },
  "orig_nbformat": 4
 },
 "nbformat": 4,
 "nbformat_minor": 2
}
