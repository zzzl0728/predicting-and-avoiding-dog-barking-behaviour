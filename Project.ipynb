{
 "cells": [
  {
   "attachments": {},
   "cell_type": "markdown",
   "metadata": {},
   "source": [
    "### University of Melbourne COMP90055 Project\n",
    "Zoe Li 1243512"
   ]
  },
  {
   "cell_type": "code",
   "execution_count": 2,
   "metadata": {},
   "outputs": [],
   "source": [
    "# imports\n",
    "import pandas as pd\n",
    "import numpy as np\n",
    "import sklearn"
   ]
  },
  {
   "cell_type": "code",
   "execution_count": 14,
   "metadata": {},
   "outputs": [
    {
     "data": {
      "text/plain": [
       "'C:/Users/zzzl0/Desktop/Project/UrbanSound8K/audio/fold10/'"
      ]
     },
     "execution_count": 14,
     "metadata": {},
     "output_type": "execute_result"
    }
   ],
   "source": [
    "df = pd.read_csv('C:/Users/zzzl0/Desktop/Project/UrbanSound8K/metadata/UrbanSound8K.csv')\n",
    "\n",
    "for i in range (1,11):\n",
    "    path = 'C:/Users/zzzl0/Desktop/Project/UrbanSound8K/audio/fold' + str(i) +'/'\n",
    "    \n",
    "path"
   ]
  }
 ],
 "metadata": {
  "kernelspec": {
   "display_name": "Python 3.9.7 ('base')",
   "language": "python",
   "name": "python3"
  },
  "language_info": {
   "codemirror_mode": {
    "name": "ipython",
    "version": 3
   },
   "file_extension": ".py",
   "mimetype": "text/x-python",
   "name": "python",
   "nbconvert_exporter": "python",
   "pygments_lexer": "ipython3",
   "version": "3.9.7"
  },
  "orig_nbformat": 4,
  "vscode": {
   "interpreter": {
    "hash": "f7894c6b6a02c8cdcc3746c91a1ea53ffd1fd8b43c961ebb31a087b4e38ab849"
   }
  }
 },
 "nbformat": 4,
 "nbformat_minor": 2
}
