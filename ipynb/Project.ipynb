{
 "cells": [
  {
   "attachments": {},
   "cell_type": "markdown",
   "metadata": {},
   "source": [
    "### University of Melbourne COMP90055 Project\n",
    "Zoe Li 1243512"
   ]
  },
  {
   "cell_type": "code",
   "execution_count": 2,
   "metadata": {},
   "outputs": [],
   "source": [
    "# imports\n",
    "import pandas as pd\n",
    "import numpy as np\n",
    "import sklearn\n",
    "import librosa"
   ]
  },
  {
   "cell_type": "code",
   "execution_count": 23,
   "metadata": {},
   "outputs": [
    {
     "name": "stderr",
     "output_type": "stream",
     "text": [
      "C:\\Users\\zzzl0\\AppData\\Local\\Temp/ipykernel_17372/2533693501.py:3: SettingWithCopyWarning: \n",
      "A value is trying to be set on a copy of a slice from a DataFrame.\n",
      "Try using .loc[row_indexer,col_indexer] = value instead\n",
      "\n",
      "See the caveats in the documentation: https://pandas.pydata.org/pandas-docs/stable/user_guide/indexing.html#returning-a-view-versus-a-copy\n",
      "  df['mfcc'] = None\n"
     ]
    }
   ],
   "source": [
    "csv = pd.read_csv('C:/Users/zzzl0/Desktop/predicting-and-avoiding-dog-barking-behaviour/predicting-and-avoiding-dog-barking-behaviour/UrbanSound8K/metadata/UrbanSound8K.csv')\n",
    "df = csv[['slice_file_name','fold','classID','class']]\n",
    "df['mfcc'] = None"
   ]
  },
  {
   "cell_type": "code",
   "execution_count": 25,
   "metadata": {},
   "outputs": [
    {
     "name": "stderr",
     "output_type": "stream",
     "text": [
      "C:\\Users\\zzzl0\\AppData\\Local\\Temp/ipykernel_17372/1148678912.py:6: SettingWithCopyWarning: \n",
      "A value is trying to be set on a copy of a slice from a DataFrame\n",
      "\n",
      "See the caveats in the documentation: https://pandas.pydata.org/pandas-docs/stable/user_guide/indexing.html#returning-a-view-versus-a-copy\n",
      "  df['mfcc'][i] = mfcc\n",
      "c:\\Users\\zzzl0\\anaconda3\\lib\\site-packages\\librosa\\util\\decorators.py:88: UserWarning: n_fft=2048 is too small for input signal of length=1323\n",
      "  return f(*args, **kwargs)\n",
      "c:\\Users\\zzzl0\\anaconda3\\lib\\site-packages\\librosa\\util\\decorators.py:88: UserWarning: n_fft=2048 is too small for input signal of length=1103\n",
      "  return f(*args, **kwargs)\n",
      "c:\\Users\\zzzl0\\anaconda3\\lib\\site-packages\\librosa\\util\\decorators.py:88: UserWarning: n_fft=2048 is too small for input signal of length=1523\n",
      "  return f(*args, **kwargs)\n"
     ]
    },
    {
     "data": {
      "text/html": [
       "<div>\n",
       "<style scoped>\n",
       "    .dataframe tbody tr th:only-of-type {\n",
       "        vertical-align: middle;\n",
       "    }\n",
       "\n",
       "    .dataframe tbody tr th {\n",
       "        vertical-align: top;\n",
       "    }\n",
       "\n",
       "    .dataframe thead th {\n",
       "        text-align: right;\n",
       "    }\n",
       "</style>\n",
       "<table border=\"1\" class=\"dataframe\">\n",
       "  <thead>\n",
       "    <tr style=\"text-align: right;\">\n",
       "      <th></th>\n",
       "      <th>slice_file_name</th>\n",
       "      <th>fold</th>\n",
       "      <th>classID</th>\n",
       "      <th>class</th>\n",
       "      <th>mfcc</th>\n",
       "    </tr>\n",
       "  </thead>\n",
       "  <tbody>\n",
       "    <tr>\n",
       "      <th>0</th>\n",
       "      <td>100032-3-0-0.wav</td>\n",
       "      <td>5</td>\n",
       "      <td>3</td>\n",
       "      <td>dog_bark</td>\n",
       "      <td>[[-333.38168, -172.86313, -94.09414, -60.86848...</td>\n",
       "    </tr>\n",
       "    <tr>\n",
       "      <th>1</th>\n",
       "      <td>100263-2-0-117.wav</td>\n",
       "      <td>5</td>\n",
       "      <td>2</td>\n",
       "      <td>children_playing</td>\n",
       "      <td>[[-489.11716, -451.05603, -445.70062, -440.020...</td>\n",
       "    </tr>\n",
       "    <tr>\n",
       "      <th>2</th>\n",
       "      <td>100263-2-0-121.wav</td>\n",
       "      <td>5</td>\n",
       "      <td>2</td>\n",
       "      <td>children_playing</td>\n",
       "      <td>[[-494.69894, -468.22916, -476.6907, -482.8309...</td>\n",
       "    </tr>\n",
       "    <tr>\n",
       "      <th>3</th>\n",
       "      <td>100263-2-0-126.wav</td>\n",
       "      <td>5</td>\n",
       "      <td>2</td>\n",
       "      <td>children_playing</td>\n",
       "      <td>[[-444.25037, -408.51923, -404.58514, -404.187...</td>\n",
       "    </tr>\n",
       "    <tr>\n",
       "      <th>4</th>\n",
       "      <td>100263-2-0-137.wav</td>\n",
       "      <td>5</td>\n",
       "      <td>2</td>\n",
       "      <td>children_playing</td>\n",
       "      <td>[[-470.15686, -434.04797, -438.31635, -437.627...</td>\n",
       "    </tr>\n",
       "    <tr>\n",
       "      <th>...</th>\n",
       "      <td>...</td>\n",
       "      <td>...</td>\n",
       "      <td>...</td>\n",
       "      <td>...</td>\n",
       "      <td>...</td>\n",
       "    </tr>\n",
       "    <tr>\n",
       "      <th>8727</th>\n",
       "      <td>99812-1-2-0.wav</td>\n",
       "      <td>7</td>\n",
       "      <td>1</td>\n",
       "      <td>car_horn</td>\n",
       "      <td>[[-426.88046, -399.10907, -402.37387, -403.812...</td>\n",
       "    </tr>\n",
       "    <tr>\n",
       "      <th>8728</th>\n",
       "      <td>99812-1-3-0.wav</td>\n",
       "      <td>7</td>\n",
       "      <td>1</td>\n",
       "      <td>car_horn</td>\n",
       "      <td>[[-479.73572, -451.0463, -447.31027, -442.0757...</td>\n",
       "    </tr>\n",
       "    <tr>\n",
       "      <th>8729</th>\n",
       "      <td>99812-1-4-0.wav</td>\n",
       "      <td>7</td>\n",
       "      <td>1</td>\n",
       "      <td>car_horn</td>\n",
       "      <td>[[-325.3323, -298.1148, -300.3505, -299.12598,...</td>\n",
       "    </tr>\n",
       "    <tr>\n",
       "      <th>8730</th>\n",
       "      <td>99812-1-5-0.wav</td>\n",
       "      <td>7</td>\n",
       "      <td>1</td>\n",
       "      <td>car_horn</td>\n",
       "      <td>[[-400.48465, -366.7077, -362.00775, -360.2878...</td>\n",
       "    </tr>\n",
       "    <tr>\n",
       "      <th>8731</th>\n",
       "      <td>99812-1-6-0.wav</td>\n",
       "      <td>7</td>\n",
       "      <td>1</td>\n",
       "      <td>car_horn</td>\n",
       "      <td>[[-338.84174, -306.6523, -303.2637, -303.15045...</td>\n",
       "    </tr>\n",
       "  </tbody>\n",
       "</table>\n",
       "<p>8732 rows × 5 columns</p>\n",
       "</div>"
      ],
      "text/plain": [
       "         slice_file_name  fold  classID             class  \\\n",
       "0       100032-3-0-0.wav     5        3          dog_bark   \n",
       "1     100263-2-0-117.wav     5        2  children_playing   \n",
       "2     100263-2-0-121.wav     5        2  children_playing   \n",
       "3     100263-2-0-126.wav     5        2  children_playing   \n",
       "4     100263-2-0-137.wav     5        2  children_playing   \n",
       "...                  ...   ...      ...               ...   \n",
       "8727     99812-1-2-0.wav     7        1          car_horn   \n",
       "8728     99812-1-3-0.wav     7        1          car_horn   \n",
       "8729     99812-1-4-0.wav     7        1          car_horn   \n",
       "8730     99812-1-5-0.wav     7        1          car_horn   \n",
       "8731     99812-1-6-0.wav     7        1          car_horn   \n",
       "\n",
       "                                                   mfcc  \n",
       "0     [[-333.38168, -172.86313, -94.09414, -60.86848...  \n",
       "1     [[-489.11716, -451.05603, -445.70062, -440.020...  \n",
       "2     [[-494.69894, -468.22916, -476.6907, -482.8309...  \n",
       "3     [[-444.25037, -408.51923, -404.58514, -404.187...  \n",
       "4     [[-470.15686, -434.04797, -438.31635, -437.627...  \n",
       "...                                                 ...  \n",
       "8727  [[-426.88046, -399.10907, -402.37387, -403.812...  \n",
       "8728  [[-479.73572, -451.0463, -447.31027, -442.0757...  \n",
       "8729  [[-325.3323, -298.1148, -300.3505, -299.12598,...  \n",
       "8730  [[-400.48465, -366.7077, -362.00775, -360.2878...  \n",
       "8731  [[-338.84174, -306.6523, -303.2637, -303.15045...  \n",
       "\n",
       "[8732 rows x 5 columns]"
      ]
     },
     "execution_count": 25,
     "metadata": {},
     "output_type": "execute_result"
    }
   ],
   "source": [
    "audio_prefix = 'C:/Users/zzzl0/Desktop/predicting-and-avoiding-dog-barking-behaviour/predicting-and-avoiding-dog-barking-behaviour/UrbanSound8K/audio/fold'\n",
    "for i in range (0,8732):\n",
    "    audio_path =  audio_prefix + str(df['fold'][i]) +'/' + str(df['slice_file_name'][i])\n",
    "    y, sr = librosa.load(audio_path)\n",
    "    mfcc = librosa.feature.mfcc(y=y, sr=sr)\n",
    "    df['mfcc'][i] = mfcc\n",
    "   # mfcc = librosa.util.normalize(mfcc)\n",
    "   # print(\"MFCC shape:\", mfcc.shape)\n",
    "df"
   ]
  },
  {
   "cell_type": "code",
   "execution_count": 15,
   "metadata": {},
   "outputs": [
    {
     "name": "stdout",
     "output_type": "stream",
     "text": [
      "5\n",
      "7\n",
      "4\n",
      "9\n",
      "6\n",
      "1\n",
      "9\n",
      "9\n",
      "4\n",
      "7\n",
      "5\n",
      "1\n",
      "2\n",
      "0\n",
      "9\n",
      "0\n",
      "7\n",
      "0\n",
      "0\n",
      "1\n"
     ]
    }
   ],
   "source": [
    "import random\n",
    "for i in range(0,20):\n",
    "    print(random.randint(0,9))"
   ]
  }
 ],
 "metadata": {
  "kernelspec": {
   "display_name": "Python 3.9.7 ('base')",
   "language": "python",
   "name": "python3"
  },
  "language_info": {
   "codemirror_mode": {
    "name": "ipython",
    "version": 3
   },
   "file_extension": ".py",
   "mimetype": "text/x-python",
   "name": "python",
   "nbconvert_exporter": "python",
   "pygments_lexer": "ipython3",
   "version": "3.9.7"
  },
  "orig_nbformat": 4,
  "vscode": {
   "interpreter": {
    "hash": "f7894c6b6a02c8cdcc3746c91a1ea53ffd1fd8b43c961ebb31a087b4e38ab849"
   }
  }
 },
 "nbformat": 4,
 "nbformat_minor": 2
}
